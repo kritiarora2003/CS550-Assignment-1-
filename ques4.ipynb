{
 "cells": [
  {
   "cell_type": "code",
   "execution_count": 2,
   "id": "41bd7270-8c69-43f9-998e-9fbb9e90b34f",
   "metadata": {},
   "outputs": [
    {
     "name": "stdout",
     "output_type": "stream",
     "text": [
      "   fixed acidity  volatile acidity  citric acid  residual sugar  chlorides  \\\n",
      "0            7.4              0.70         0.00             1.9      0.076   \n",
      "1            7.8              0.88         0.00             2.6      0.098   \n",
      "2            7.8              0.76         0.04             2.3      0.092   \n",
      "3           11.2              0.28         0.56             1.9      0.075   \n",
      "4            7.4              0.70         0.00             1.9      0.076   \n",
      "\n",
      "   free sulfur dioxide  total sulfur dioxide  density    pH  sulphates  \\\n",
      "0                 11.0                  34.0   0.9978  3.51       0.56   \n",
      "1                 25.0                  67.0   0.9968  3.20       0.68   \n",
      "2                 15.0                  54.0   0.9970  3.26       0.65   \n",
      "3                 17.0                  60.0   0.9980  3.16       0.58   \n",
      "4                 11.0                  34.0   0.9978  3.51       0.56   \n",
      "\n",
      "   alcohol  quality  Id  \n",
      "0      9.4        5   0  \n",
      "1      9.8        5   1  \n",
      "2      9.8        5   2  \n",
      "3      9.8        6   3  \n",
      "4      9.4        5   4  \n",
      "   fixed acidity  volatile acidity  citric acid  residual sugar  chlorides  \\\n",
      "0       0.247788          0.397260         0.00        0.068493   0.106845   \n",
      "1       0.283186          0.520548         0.00        0.116438   0.143573   \n",
      "2       0.283186          0.438356         0.04        0.095890   0.133556   \n",
      "3       0.584071          0.109589         0.56        0.068493   0.105175   \n",
      "4       0.247788          0.397260         0.00        0.068493   0.106845   \n",
      "\n",
      "   free sulfur dioxide  total sulfur dioxide   density        pH  sulphates  \\\n",
      "0             0.149254              0.098940  0.567548  0.606299   0.137725   \n",
      "1             0.358209              0.215548  0.494126  0.362205   0.209581   \n",
      "2             0.208955              0.169611  0.508811  0.409449   0.191617   \n",
      "3             0.238806              0.190813  0.582232  0.330709   0.149701   \n",
      "4             0.149254              0.098940  0.567548  0.606299   0.137725   \n",
      "\n",
      "    alcohol  quality        Id  \n",
      "0  0.153846        0  0.000000  \n",
      "1  0.215385        0  0.000626  \n",
      "2  0.215385        0  0.001252  \n",
      "3  0.215385        0  0.001879  \n",
      "4  0.153846        0  0.002505  \n"
     ]
    }
   ],
   "source": [
    "import pandas as pd\n",
    "from sklearn.preprocessing import MinMaxScaler\n",
    "\n",
    "# Load the Wine Quality Data Set\n",
    "import pandas as pd\n",
    "\n",
    "# Load the Wine Quality Data Set into a DataFrame called df\n",
    "df = pd.read_csv('/home/kriti-arora/kriti/college/sem5/ML/hw/ass1/CS550-Assignment-1-/WineQT.csv')\n",
    "\n",
    "# Display the first few rows of the dataset to verify loading\n",
    "print(df.head())\n",
    "\n",
    "# Assuming you have the dataset loaded in a DataFrame called df\n",
    "# df = pd.read_csv('winequality.csv')\n",
    "\n",
    "# Step 1: Convert quality values\n",
    "df['quality'] = df['quality'].apply(lambda x: 1 if x > 6 else 0)\n",
    "\n",
    "# Step 2: Normalize other attributes using min-max scaling\n",
    "scaler = MinMaxScaler()\n",
    "# Apply min-max scaling to all columns except 'quality'\n",
    "df[df.columns.difference(['quality'])] = scaler.fit_transform(df[df.columns.difference(['quality'])])\n",
    "\n",
    "df.to_csv('winequality_modified.csv', index=False)\n",
    "\n",
    "\n",
    "# Display the transformed dataset\n",
    "print(df.head())\n"
   ]
  },
  {
   "cell_type": "code",
   "execution_count": null,
   "id": "2f094588-d4ad-4d76-839f-5efa967776d8",
   "metadata": {},
   "outputs": [],
   "source": []
  }
 ],
 "metadata": {
  "kernelspec": {
   "display_name": "Python 3 (ipykernel)",
   "language": "python",
   "name": "python3"
  },
  "language_info": {
   "codemirror_mode": {
    "name": "ipython",
    "version": 3
   },
   "file_extension": ".py",
   "mimetype": "text/x-python",
   "name": "python",
   "nbconvert_exporter": "python",
   "pygments_lexer": "ipython3",
   "version": "3.8.10"
  }
 },
 "nbformat": 4,
 "nbformat_minor": 5
}
